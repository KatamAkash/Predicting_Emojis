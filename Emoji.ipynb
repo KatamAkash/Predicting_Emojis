{
 "cells": [
  {
   "cell_type": "markdown",
   "metadata": {
    "colab_type": "text",
    "id": "BeJ1fliPCYX4"
   },
   "source": [
    "## Install Emoji\n",
    "\n",
    "`pip install emoji`"
   ]
  },
  {
   "cell_type": "code",
   "execution_count": 0,
   "metadata": {
    "colab": {
     "base_uri": "https://localhost:8080/",
     "height": 34
    },
    "colab_type": "code",
    "executionInfo": {
     "elapsed": 5481,
     "status": "ok",
     "timestamp": 1591181976162,
     "user": {
      "displayName": "Shubham Agnihotri",
      "photoUrl": "https://lh3.googleusercontent.com/a-/AOh14GjwKmEpYBepenk4o6UOPnPCIfOvGDi02ME_215oAzA=s64",
      "userId": "04307473799757146779"
     },
     "user_tz": -330
    },
    "id": "qk0Knd-YqMxn",
    "outputId": "0391c917-2073-4b6d-f5fd-78aec42c3ed2"
   },
   "outputs": [
    {
     "name": "stdout",
     "output_type": "stream",
     "text": [
      "Requirement already satisfied: emoji in /usr/local/lib/python3.6/dist-packages (0.5.4)\n"
     ]
    }
   ],
   "source": [
    "!pip install emoji"
   ]
  },
  {
   "cell_type": "markdown",
   "metadata": {
    "colab_type": "text",
    "id": "yydMd9LNCYX5"
   },
   "source": [
    "## Using Emoji"
   ]
  },
  {
   "cell_type": "code",
   "execution_count": 0,
   "metadata": {
    "colab": {},
    "colab_type": "code",
    "id": "oJYdKRCzCYX6"
   },
   "outputs": [],
   "source": [
    "import emoji\n",
    "emoji_dictionary = {\"0\": \"\\u2764\\uFE0F\",    # :heart: prints a black instead of red heart depending on the font\n",
    "                    \"1\": \":baseball:\",\n",
    "                    \"2\": \":grinning_face_with_big_eyes:\",\n",
    "                    \"3\": \":zipper-mouth_face:\",\n",
    "                    \"4\": \":fork_and_knife:\",\n",
    "                    \"5\": \":tongue:\",\n",
    "                    \"6\": \":sunglasses:\",\n",
    "                    \"7\": \":kiss:\",\n",
    "                    \"8\": \":winking_face_with_tongue:\",\n",
    "                   }"
   ]
  },
  {
   "cell_type": "code",
   "execution_count": 0,
   "metadata": {
    "colab": {
     "base_uri": "https://localhost:8080/",
     "height": 168
    },
    "colab_type": "code",
    "executionInfo": {
     "elapsed": 1201,
     "status": "ok",
     "timestamp": 1591181980669,
     "user": {
      "displayName": "KatamAkash",
      "photoUrl": "https://lh3.googleusercontent.com/a-/AOh14GjwKmEpYBepenk4o6UOPnPCIfOvGDi02ME_215oAzA=s64",
      "userId": "04307473799757146779"
     },
     "user_tz": -330
    },
    "id": "Fqwnn0kOCp6T",
    "outputId": "f1151096-da61-4a9b-ee9f-a90990ce08a2"
   },
   "outputs": [
    {
     "name": "stdout",
     "output_type": "stream",
     "text": [
      "❤️\n",
      "⚾\n",
      "😃\n",
      "🤐\n",
      "🍴\n",
      "👅\n",
      "🕶\n",
      "💏\n",
      "😜\n"
     ]
    }
   ],
   "source": [
    "for key in emoji_dictionary.keys() :\n",
    "    print(emoji.emojize(emoji_dictionary[key]))"
   ]
  },
  {
   "cell_type": "code",
   "execution_count": 0,
   "metadata": {
    "colab": {},
    "colab_type": "code",
    "id": "pQSYeweat36c"
   },
   "outputs": [],
   "source": [
    "import numpy as np\n",
    "import pandas as pd"
   ]
  },
  {
   "cell_type": "code",
   "execution_count": 0,
   "metadata": {
    "colab": {},
    "colab_type": "code",
    "id": "qikOUUwkvE1d"
   },
   "outputs": [],
   "source": [
    "train = pd.read_csv('/content/train_emoji.csv', header = None)"
   ]
  },
  {
   "cell_type": "code",
   "execution_count": 0,
   "metadata": {
    "colab": {
     "base_uri": "https://localhost:8080/",
     "height": 195
    },
    "colab_type": "code",
    "executionInfo": {
     "elapsed": 1749,
     "status": "ok",
     "timestamp": 1591181986546,
     "user": {
      "displayName": "Katam Akash",
      "photoUrl": "https://lh3.googleusercontent.com/a-/AOh14GjwKmEpYBepenk4o6UOPnPCIfOvGDi02ME_215oAzA=s64",
      "userId": "04307473799757146779"
     },
     "user_tz": -330
    },
    "id": "N651Inl4vL4L",
    "outputId": "f4405bda-6932-48d0-f403-7e87997cbb02"
   },
   "outputs": [
    {
     "data": {
      "text/html": [
       "<div>\n",
       "<style scoped>\n",
       "    .dataframe tbody tr th:only-of-type {\n",
       "        vertical-align: middle;\n",
       "    }\n",
       "\n",
       "    .dataframe tbody tr th {\n",
       "        vertical-align: top;\n",
       "    }\n",
       "\n",
       "    .dataframe thead th {\n",
       "        text-align: right;\n",
       "    }\n",
       "</style>\n",
       "<table border=\"1\" class=\"dataframe\">\n",
       "  <thead>\n",
       "    <tr style=\"text-align: right;\">\n",
       "      <th></th>\n",
       "      <th>0</th>\n",
       "      <th>1</th>\n",
       "      <th>2</th>\n",
       "      <th>3</th>\n",
       "    </tr>\n",
       "  </thead>\n",
       "  <tbody>\n",
       "    <tr>\n",
       "      <th>0</th>\n",
       "      <td>never talk to me again</td>\n",
       "      <td>3</td>\n",
       "      <td>NaN</td>\n",
       "      <td>NaN</td>\n",
       "    </tr>\n",
       "    <tr>\n",
       "      <th>1</th>\n",
       "      <td>I am proud of your achievements</td>\n",
       "      <td>2</td>\n",
       "      <td>NaN</td>\n",
       "      <td>NaN</td>\n",
       "    </tr>\n",
       "    <tr>\n",
       "      <th>2</th>\n",
       "      <td>It is the worst day in my life</td>\n",
       "      <td>3</td>\n",
       "      <td>NaN</td>\n",
       "      <td>NaN</td>\n",
       "    </tr>\n",
       "    <tr>\n",
       "      <th>3</th>\n",
       "      <td>Miss you so much</td>\n",
       "      <td>0</td>\n",
       "      <td>NaN</td>\n",
       "      <td>[0]</td>\n",
       "    </tr>\n",
       "    <tr>\n",
       "      <th>4</th>\n",
       "      <td>food is life</td>\n",
       "      <td>4</td>\n",
       "      <td>NaN</td>\n",
       "      <td>NaN</td>\n",
       "    </tr>\n",
       "  </tbody>\n",
       "</table>\n",
       "</div>"
      ],
      "text/plain": [
       "                                 0  1   2     3\n",
       "0           never talk to me again  3 NaN   NaN\n",
       "1  I am proud of your achievements  2 NaN   NaN\n",
       "2   It is the worst day in my life  3 NaN   NaN\n",
       "3                 Miss you so much  0 NaN   [0]\n",
       "4                     food is life  4 NaN   NaN"
      ]
     },
     "execution_count": 19,
     "metadata": {
      "tags": []
     },
     "output_type": "execute_result"
    }
   ],
   "source": [
    "train.head()"
   ]
  },
  {
   "cell_type": "code",
   "execution_count": 0,
   "metadata": {
    "colab": {
     "base_uri": "https://localhost:8080/",
     "height": 202
    },
    "colab_type": "code",
    "executionInfo": {
     "elapsed": 1742,
     "status": "ok",
     "timestamp": 1591181989867,
     "user": {
      "displayName": "Katam Akash",
      "photoUrl": "https://lh3.googleusercontent.com/a-/AOh14GjwKmEpYBepenk4o6UOPnPCIfOvGDi02ME_215oAzA=s64",
      "userId": "04307473799757146779"
     },
     "user_tz": -330
    },
    "id": "_21UueSJv9dG",
    "outputId": "8f604aef-9d82-424a-b399-3c085d46cba0"
   },
   "outputs": [
    {
     "name": "stdout",
     "output_type": "stream",
     "text": [
      "<class 'pandas.core.frame.DataFrame'>\n",
      "RangeIndex: 132 entries, 0 to 131\n",
      "Data columns (total 4 columns):\n",
      " #   Column  Non-Null Count  Dtype  \n",
      "---  ------  --------------  -----  \n",
      " 0   0       132 non-null    object \n",
      " 1   1       132 non-null    int64  \n",
      " 2   2       0 non-null      float64\n",
      " 3   3       12 non-null     object \n",
      "dtypes: float64(1), int64(1), object(2)\n",
      "memory usage: 4.2+ KB\n"
     ]
    }
   ],
   "source": [
    "train.info()"
   ]
  },
  {
   "cell_type": "code",
   "execution_count": 0,
   "metadata": {
    "colab": {},
    "colab_type": "code",
    "id": "2_yUnqGOvOAr"
   },
   "outputs": [],
   "source": [
    "X_train = train.iloc[:, 0].values\n",
    "y_train = train.iloc[:, 1].values"
   ]
  },
  {
   "cell_type": "code",
   "execution_count": 0,
   "metadata": {
    "colab": {
     "base_uri": "https://localhost:8080/",
     "height": 101
    },
    "colab_type": "code",
    "executionInfo": {
     "elapsed": 1756,
     "status": "ok",
     "timestamp": 1591181990593,
     "user": {
      "displayName": "Katam Akash",
      "photoUrl": "https://lh3.googleusercontent.com/a-/AOh14GjwKmEpYBepenk4o6UOPnPCIfOvGDi02ME_215oAzA=s64",
      "userId": "04307473799757146779"
     },
     "user_tz": -330
    },
    "id": "ndnsqwTOvf64",
    "outputId": "4ae4dab1-dab1-4e66-81a5-2cfc94822c8b"
   },
   "outputs": [
    {
     "data": {
      "text/plain": [
       "array(['never talk to me again', 'I am proud of your achievements',\n",
       "       'It is the worst day in my life', 'Miss you so much',\n",
       "       'food is life', 'I love you mum', 'Stop saying bullshit',\n",
       "       'congratulations on your acceptance',\n",
       "       'The assignment is too long ', 'I want to go play'], dtype=object)"
      ]
     },
     "execution_count": 22,
     "metadata": {
      "tags": []
     },
     "output_type": "execute_result"
    }
   ],
   "source": [
    "X_train[:10]"
   ]
  },
  {
   "cell_type": "code",
   "execution_count": 0,
   "metadata": {
    "colab": {
     "base_uri": "https://localhost:8080/",
     "height": 185
    },
    "colab_type": "code",
    "executionInfo": {
     "elapsed": 1367,
     "status": "ok",
     "timestamp": 1591181990599,
     "user": {
      "displayName": "Katam Akash",
      "photoUrl": "https://lh3.googleusercontent.com/a-/AOh14GjwKmEpYBepenk4o6UOPnPCIfOvGDi02ME_215oAzA=s64",
      "userId": "04307473799757146779"
     },
     "user_tz": -330
    },
    "id": "K3xKeginvlIq",
    "outputId": "17585f11-2c68-4725-8e63-3d4e9f656f90"
   },
   "outputs": [
    {
     "name": "stdout",
     "output_type": "stream",
     "text": [
      "never talk to me again 🤐\n",
      "I am proud of your achievements 😃\n",
      "It is the worst day in my life 🤐\n",
      "Miss you so much ❤️\n",
      "food is life 🍴\n",
      "I love you mum ❤️\n",
      "Stop saying bullshit 🤐\n",
      "congratulations on your acceptance 😃\n",
      "The assignment is too long  🤐\n",
      "I want to go play ⚾\n"
     ]
    }
   ],
   "source": [
    "for i in range(10) :\n",
    "    print(X_train[i], end = \" \")\n",
    "    print(emoji.emojize(emoji_dictionary[str(y_train[i])])) "
   ]
  },
  {
   "cell_type": "code",
   "execution_count": 0,
   "metadata": {
    "colab": {
     "base_uri": "https://localhost:8080/",
     "height": 34
    },
    "colab_type": "code",
    "executionInfo": {
     "elapsed": 754,
     "status": "ok",
     "timestamp": 1591181992072,
     "user": {
      "displayName": "Katam Akash",
      "photoUrl": "https://lh3.googleusercontent.com/a-/AOh14GjwKmEpYBepenk4o6UOPnPCIfOvGDi02ME_215oAzA=s64",
      "userId": "04307473799757146779"
     },
     "user_tz": -330
    },
    "id": "1R4CIlddwFcZ",
    "outputId": "fb011848-fcb5-424f-d952-568e756a1dc9"
   },
   "outputs": [
    {
     "data": {
      "text/plain": [
       "(132, 5)"
      ]
     },
     "execution_count": 24,
     "metadata": {
      "tags": []
     },
     "output_type": "execute_result"
    }
   ],
   "source": [
    "from sklearn.preprocessing import OneHotEncoder\n",
    "one = OneHotEncoder()\n",
    "y_train = one.fit_transform(y_train.reshape(-1, 1))\n",
    "y_train.shape"
   ]
  },
  {
   "cell_type": "code",
   "execution_count": 0,
   "metadata": {
    "colab": {},
    "colab_type": "code",
    "id": "efA_RKEzwe7u"
   },
   "outputs": [],
   "source": []
  },
  {
   "cell_type": "code",
   "execution_count": 0,
   "metadata": {
    "colab": {
     "base_uri": "https://localhost:8080/",
     "height": 91,
     "resources": {
      "http://localhost:8080/nbextensions/google.colab/files.js": {
       "data": "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",
       "headers": [
        [
         "content-type",
         "application/javascript"
        ]
       ],
       "ok": true,
       "status": 200,
       "status_text": ""
      }
     }
    },
    "colab_type": "code",
    "executionInfo": {
     "elapsed": 14401,
     "status": "ok",
     "timestamp": 1591182023522,
     "user": {
      "displayName": "Katam Akash",
      "photoUrl": "https://lh3.googleusercontent.com/a-/AOh14GjwKmEpYBepenk4o6UOPnPCIfOvGDi02ME_215oAzA=s64",
      "userId": "04307473799757146779"
     },
     "user_tz": -330
    },
    "id": "k6eVhoL1xXbP",
    "outputId": "24c9cbb3-09f2-461c-c3e6-e900c47ec999"
   },
   "outputs": [
    {
     "data": {
      "text/html": [
       "\n",
       "     <input type=\"file\" id=\"files-5d46bda7-1c40-4577-a852-ef464d782777\" name=\"files[]\" multiple disabled />\n",
       "     <output id=\"result-5d46bda7-1c40-4577-a852-ef464d782777\">\n",
       "      Upload widget is only available when the cell has been executed in the\n",
       "      current browser session. Please rerun this cell to enable.\n",
       "      </output>\n",
       "      <script src=\"/nbextensions/google.colab/files.js\"></script> "
      ],
      "text/plain": [
       "<IPython.core.display.HTML object>"
      ]
     },
     "metadata": {
      "tags": []
     },
     "output_type": "display_data"
    },
    {
     "name": "stdout",
     "output_type": "stream",
     "text": [
      "Saving kaggle.json to kaggle.json\n"
     ]
    },
    {
     "data": {
      "text/plain": [
       "{'kaggle.json': b'{\"username\":\"katamakash\",\"key\":\"0ea22017b6052eb6b8adc0ef5988d4dc\"}'}"
      ]
     },
     "execution_count": 25,
     "metadata": {
      "tags": []
     },
     "output_type": "execute_result"
    }
   ],
   "source": [
    "! pip install -q kaggle\n",
    "from google.colab import files\n",
    "files.upload()"
   ]
  },
  {
   "cell_type": "code",
   "execution_count": 0,
   "metadata": {
    "colab": {},
    "colab_type": "code",
    "id": "HWazsN7Vxw3m"
   },
   "outputs": [],
   "source": [
    "! mkdir ~/.kaggle\n",
    "! cp kaggle.json ~/.kaggle/\n",
    "! chmod 600 ~/.kaggle/kaggle.json"
   ]
  },
  {
   "cell_type": "code",
   "execution_count": 0,
   "metadata": {
    "colab": {
     "base_uri": "https://localhost:8080/",
     "height": 67
    },
    "colab_type": "code",
    "executionInfo": {
     "elapsed": 15316,
     "status": "ok",
     "timestamp": 1591182043593,
     "user": {
      "displayName": "Katam Akash",
      "photoUrl": "https://lh3.googleusercontent.com/a-/AOh14GjwKmEpYBepenk4o6UOPnPCIfOvGDi02ME_215oAzA=s64",
      "userId": "04307473799757146779"
     },
     "user_tz": -330
    },
    "id": "ISvVP9sDx_yr",
    "outputId": "a5d9c9e6-52ac-4bd5-d4c1-8899796d6341"
   },
   "outputs": [
    {
     "name": "stdout",
     "output_type": "stream",
     "text": [
      "Downloading glove6b50dtxt.zip to /content\n",
      " 93% 63.0M/67.7M [00:01<00:00, 21.1MB/s]\n",
      "100% 67.7M/67.7M [00:01<00:00, 38.0MB/s]\n"
     ]
    }
   ],
   "source": [
    "!kaggle datasets download -d watts2/glove6b50dtxt"
   ]
  },
  {
   "cell_type": "code",
   "execution_count": 0,
   "metadata": {
    "colab": {
     "base_uri": "https://localhost:8080/",
     "height": 50
    },
    "colab_type": "code",
    "executionInfo": {
     "elapsed": 19476,
     "status": "ok",
     "timestamp": 1591182048068,
     "user": {
      "displayName": "Katam Akash",
      "photoUrl": "https://lh3.googleusercontent.com/a-/AOh14GjwKmEpYBepenk4o6UOPnPCIfOvGDi02ME_215oAzA=s64",
      "userId": "04307473799757146779"
     },
     "user_tz": -330
    },
    "id": "4W78c_kGyYUo",
    "outputId": "5b9d94d2-97f1-4b5e-a512-9e4667380dcb"
   },
   "outputs": [
    {
     "name": "stdout",
     "output_type": "stream",
     "text": [
      "Archive:  /content/glove6b50dtxt.zip\n",
      "  inflating: glove.6B.50d.txt        \n"
     ]
    }
   ],
   "source": [
    "!unzip /content/glove6b50dtxt.zip"
   ]
  },
  {
   "cell_type": "code",
   "execution_count": 0,
   "metadata": {
    "colab": {},
    "colab_type": "code",
    "id": "Y6_erlBgyE16"
   },
   "outputs": [],
   "source": [
    "emb = {}\n",
    "with open('/content/glove.6B.50d.txt', encoding = 'utf-8') as f :\n",
    "    for line in f:\n",
    "        # print(line)\n",
    "        values = line.split()\n",
    "        word = values[0]\n",
    "        coffe = np.asarray(values[1:], dtype= 'float32')\n",
    "        emb[word] = coffe\n",
    "    # print(f)"
   ]
  },
  {
   "cell_type": "code",
   "execution_count": 0,
   "metadata": {
    "colab": {},
    "colab_type": "code",
    "id": "63DvH7vYyzBh"
   },
   "outputs": [],
   "source": [
    "def togetOutputEMB(X) :\n",
    "    emb_mat_output = np.zeros((X.shape[0], 10, 50))\n",
    "\n",
    "    for ix in range(X.shape[0]) :\n",
    "        X[ix] = X[ix].split()\n",
    "        for ij in range(len(X[ix])) :\n",
    "            emb_mat_output[ix][ij] = emb[X[ix][ij].lower()]\n",
    "    \n",
    "    return emb_mat_output"
   ]
  },
  {
   "cell_type": "code",
   "execution_count": 0,
   "metadata": {
    "colab": {},
    "colab_type": "code",
    "id": "2HdfiOCZ06yn"
   },
   "outputs": [],
   "source": [
    "X_train = togetOutputEMB(X_train)"
   ]
  },
  {
   "cell_type": "code",
   "execution_count": 0,
   "metadata": {
    "colab": {
     "base_uri": "https://localhost:8080/",
     "height": 34
    },
    "colab_type": "code",
    "executionInfo": {
     "elapsed": 1237,
     "status": "ok",
     "timestamp": 1591182094661,
     "user": {
      "displayName": "Katam Akash",
      "photoUrl": "https://lh3.googleusercontent.com/a-/AOh14GjwKmEpYBepenk4o6UOPnPCIfOvGDi02ME_215oAzA=s64",
      "userId": "04307473799757146779"
     },
     "user_tz": -330
    },
    "id": "kwsG1nuN18y6",
    "outputId": "607ef2df-13bf-474a-a9f5-71990825819d"
   },
   "outputs": [
    {
     "data": {
      "text/plain": [
       "(132, 10, 50)"
      ]
     },
     "execution_count": 32,
     "metadata": {
      "tags": []
     },
     "output_type": "execute_result"
    }
   ],
   "source": [
    "X_train.shape"
   ]
  },
  {
   "cell_type": "code",
   "execution_count": 0,
   "metadata": {
    "colab": {},
    "colab_type": "code",
    "id": "WwlYpdfV1-lR"
   },
   "outputs": [],
   "source": [
    "from keras import Sequential\n",
    "from keras.layers import *"
   ]
  },
  {
   "cell_type": "code",
   "execution_count": 0,
   "metadata": {
    "colab": {},
    "colab_type": "code",
    "id": "S3lKmba02JMW"
   },
   "outputs": [],
   "source": [
    "model = Sequential()\n",
    "model.add(LSTM(64, input_shape = (10, 50), return_sequences= True))\n",
    "model.add(Dropout(rate = 0.5))\n",
    "model.add(LSTM(64, return_sequences= False))\n",
    "model.add(Dropout(rate = 0.3))\n",
    "model.add(Dense(5, activation= 'softmax'))"
   ]
  },
  {
   "cell_type": "code",
   "execution_count": 0,
   "metadata": {
    "colab": {
     "base_uri": "https://localhost:8080/",
     "height": 319
    },
    "colab_type": "code",
    "executionInfo": {
     "elapsed": 1155,
     "status": "ok",
     "timestamp": 1591182327226,
     "user": {
      "displayName": "Katam Akash",
      "photoUrl": "https://lh3.googleusercontent.com/a-/AOh14GjwKmEpYBepenk4o6UOPnPCIfOvGDi02ME_215oAzA=s64",
      "userId": "04307473799757146779"
     },
     "user_tz": -330
    },
    "id": "6p2y8pMG2ztx",
    "outputId": "37c0da99-d283-4d3e-fa2a-54e276a5bd20"
   },
   "outputs": [
    {
     "name": "stdout",
     "output_type": "stream",
     "text": [
      "Model: \"sequential_1\"\n",
      "_________________________________________________________________\n",
      "Layer (type)                 Output Shape              Param #   \n",
      "=================================================================\n",
      "lstm_1 (LSTM)                (None, 10, 64)            29440     \n",
      "_________________________________________________________________\n",
      "dropout_1 (Dropout)          (None, 10, 64)            0         \n",
      "_________________________________________________________________\n",
      "lstm_2 (LSTM)                (None, 64)                33024     \n",
      "_________________________________________________________________\n",
      "dropout_2 (Dropout)          (None, 64)                0         \n",
      "_________________________________________________________________\n",
      "dense_1 (Dense)              (None, 5)                 325       \n",
      "=================================================================\n",
      "Total params: 62,789\n",
      "Trainable params: 62,789\n",
      "Non-trainable params: 0\n",
      "_________________________________________________________________\n"
     ]
    }
   ],
   "source": [
    "model.summary()"
   ]
  },
  {
   "cell_type": "code",
   "execution_count": 0,
   "metadata": {
    "colab": {},
    "colab_type": "code",
    "id": "GsHQRlYT23jh"
   },
   "outputs": [],
   "source": [
    "model.compile(optimizer= 'rmsprop', loss = 'categorical_crossentropy', metrics= ['accuracy'])"
   ]
  },
  {
   "cell_type": "code",
   "execution_count": 0,
   "metadata": {
    "colab": {
     "base_uri": "https://localhost:8080/",
     "height": 386
    },
    "colab_type": "code",
    "executionInfo": {
     "elapsed": 7119,
     "status": "ok",
     "timestamp": 1591182481860,
     "user": {
      "displayName": "Katam Akash",
      "photoUrl": "https://lh3.googleusercontent.com/a-/AOh14GjwKmEpYBepenk4o6UOPnPCIfOvGDi02ME_215oAzA=s64",
      "userId": "04307473799757146779"
     },
     "user_tz": -330
    },
    "id": "IVW5dNIx3Mak",
    "outputId": "1afa460c-0fc6-4260-c804-15fe94cf808e"
   },
   "outputs": [
    {
     "name": "stdout",
     "output_type": "stream",
     "text": [
      "Train on 118 samples, validate on 14 samples\n",
      "Epoch 1/10\n",
      "118/118 [==============================] - 3s 21ms/step - loss: 1.5791 - accuracy: 0.2203 - val_loss: 1.6176 - val_accuracy: 0.3571\n",
      "Epoch 2/10\n",
      "118/118 [==============================] - 0s 2ms/step - loss: 1.5020 - accuracy: 0.3136 - val_loss: 1.6015 - val_accuracy: 0.3571\n",
      "Epoch 3/10\n",
      "118/118 [==============================] - 0s 2ms/step - loss: 1.4456 - accuracy: 0.3475 - val_loss: 1.5475 - val_accuracy: 0.4286\n",
      "Epoch 4/10\n",
      "118/118 [==============================] - 0s 2ms/step - loss: 1.3530 - accuracy: 0.4322 - val_loss: 1.4485 - val_accuracy: 0.3571\n",
      "Epoch 5/10\n",
      "118/118 [==============================] - 0s 2ms/step - loss: 1.2439 - accuracy: 0.4915 - val_loss: 1.4300 - val_accuracy: 0.5714\n",
      "Epoch 6/10\n",
      "118/118 [==============================] - 0s 2ms/step - loss: 1.1406 - accuracy: 0.6102 - val_loss: 1.3313 - val_accuracy: 0.4286\n",
      "Epoch 7/10\n",
      "118/118 [==============================] - 0s 2ms/step - loss: 1.0528 - accuracy: 0.6525 - val_loss: 1.4654 - val_accuracy: 0.3571\n",
      "Epoch 8/10\n",
      "118/118 [==============================] - 0s 2ms/step - loss: 0.9439 - accuracy: 0.6610 - val_loss: 1.4875 - val_accuracy: 0.5714\n",
      "Epoch 9/10\n",
      "118/118 [==============================] - 0s 2ms/step - loss: 0.9699 - accuracy: 0.6186 - val_loss: 1.0533 - val_accuracy: 0.6429\n",
      "Epoch 10/10\n",
      "118/118 [==============================] - 0s 2ms/step - loss: 0.8456 - accuracy: 0.6610 - val_loss: 1.2151 - val_accuracy: 0.5714\n"
     ]
    },
    {
     "data": {
      "text/plain": [
       "<keras.callbacks.callbacks.History at 0x7f6b00051eb8>"
      ]
     },
     "execution_count": 38,
     "metadata": {
      "tags": []
     },
     "output_type": "execute_result"
    }
   ],
   "source": [
    "model.fit(X_train, y_train, epochs= 10, batch_size= 32, shuffle= True, validation_split= 0.1)"
   ]
  },
  {
   "cell_type": "code",
   "execution_count": 0,
   "metadata": {
    "colab": {
     "base_uri": "https://localhost:8080/",
     "height": 50
    },
    "colab_type": "code",
    "executionInfo": {
     "elapsed": 1592,
     "status": "ok",
     "timestamp": 1591182518812,
     "user": {
      "displayName": "Katam Akash",
      "photoUrl": "https://lh3.googleusercontent.com/a-/AOh14GjwKmEpYBepenk4o6UOPnPCIfOvGDi02ME_215oAzA=s64",
      "userId": "04307473799757146779"
     },
     "user_tz": -330
    },
    "id": "weKmSWHY3Zdh",
    "outputId": "1a8bccc3-2181-41eb-e389-e43a88d0851a"
   },
   "outputs": [
    {
     "name": "stdout",
     "output_type": "stream",
     "text": [
      "132/132 [==============================] - 0s 413us/step\n"
     ]
    },
    {
     "data": {
      "text/plain": [
       "[0.7680458408413511, 0.75]"
      ]
     },
     "execution_count": 39,
     "metadata": {
      "tags": []
     },
     "output_type": "execute_result"
    }
   ],
   "source": [
    "model.evaluate(X_train, y_train)"
   ]
  },
  {
   "cell_type": "code",
   "execution_count": 0,
   "metadata": {
    "colab": {},
    "colab_type": "code",
    "id": "gfnBimaK3mOe"
   },
   "outputs": [],
   "source": [
    "y_pred = model.predict(X_train)"
   ]
  },
  {
   "cell_type": "code",
   "execution_count": 0,
   "metadata": {
    "colab": {},
    "colab_type": "code",
    "id": "sFfiTwco33XJ"
   },
   "outputs": [],
   "source": []
  },
  {
   "cell_type": "code",
   "execution_count": 0,
   "metadata": {
    "colab": {
     "base_uri": "https://localhost:8080/",
     "height": 1000
    },
    "colab_type": "code",
    "executionInfo": {
     "elapsed": 1658,
     "status": "ok",
     "timestamp": 1591182822940,
     "user": {
      "displayName": "Katam Akash",
      "photoUrl": "https://lh3.googleusercontent.com/a-/AOh14GjwKmEpYBepenk4o6UOPnPCIfOvGDi02ME_215oAzA=s64",
      "userId": "04307473799757146779"
     },
     "user_tz": -330
    },
    "id": "WdVFScY635iU",
    "outputId": "1515f92b-56e0-4a6b-bfa7-6c36c35d514f"
   },
   "outputs": [
    {
     "name": "stdout",
     "output_type": "stream",
     "text": [
      "🤐 🤐\n",
      "😃 😃\n",
      "😃 🤐\n",
      "😃 ❤️\n",
      "🍴 🍴\n",
      "❤️ ❤️\n",
      "🤐 🤐\n",
      "😃 😃\n",
      "😃 🤐\n",
      "⚾ ⚾\n",
      "🤐 🤐\n",
      "🤐 🤐\n",
      "⚾ ⚾\n",
      "😃 🤐\n",
      "🤐 😃\n",
      "🤐 🤐\n",
      "😃 😃\n",
      "😃 🤐\n",
      "⚾ ⚾\n",
      "🍴 😃\n",
      "🤐 🤐\n",
      "❤️ ❤️\n",
      "😃 😃\n",
      "😃 😃\n",
      "❤️ 😃\n",
      "⚾ ⚾\n",
      "😃 🍴\n",
      "😃 😃\n",
      "🤐 😃\n",
      "🍴 🍴\n",
      "😃 ❤️\n",
      "🤐 🤐\n",
      "🍴 🍴\n",
      "😃 😃\n",
      "😃 ❤️\n",
      "🍴 🤐\n",
      "😃 😃\n",
      "😃 😃\n",
      "🤐 🤐\n",
      "🍴 🍴\n",
      "😃 😃\n",
      "😃 😃\n",
      "❤️ ❤️\n",
      "😃 😃\n",
      "😃 🤐\n",
      "❤️ ❤️\n",
      "🤐 🤐\n",
      "😃 😃\n",
      "🍴 🍴\n",
      "⚾ 🤐\n",
      "🤐 ❤️\n",
      "🤐 🤐\n",
      "🤐 🤐\n",
      "❤️ 🤐\n",
      "🍴 🍴\n",
      "😃 😃\n",
      "🍴 ⚾\n",
      "⚾ ⚾\n",
      "⚾ ⚾\n",
      "😃 😃\n",
      "🤐 🤐\n",
      "⚾ ⚾\n",
      "😃 ❤️\n",
      "😃 ❤️\n",
      "❤️ ❤️\n",
      "🤐 🤐\n",
      "🍴 🍴\n",
      "🍴 🍴\n",
      "😃 😃\n",
      "😃 😃\n",
      "⚾ ⚾\n",
      "😃 😃\n",
      "❤️ ❤️\n",
      "🤐 🤐\n",
      "😃 😃\n",
      "😃 😃\n",
      "❤️ ❤️\n",
      "😃 ❤️\n",
      "🤐 🤐\n",
      "⚾ ⚾\n",
      "😃 😃\n",
      "⚾ ⚾\n",
      "😃 😃\n",
      "😃 😃\n",
      "🍴 🍴\n",
      "😃 🤐\n",
      "🤐 🤐\n",
      "😃 😃\n",
      "🍴 🍴\n",
      "😃 ❤️\n",
      "❤️ ❤️\n",
      "😃 ❤️\n",
      "😃 🤐\n",
      "🤐 🤐\n",
      "🤐 🤐\n",
      "😃 😃\n",
      "🤐 ❤️\n",
      "⚾ ⚾\n",
      "😃 😃\n",
      "🤐 🤐\n",
      "❤️ ❤️\n",
      "😃 😃\n",
      "😃 😃\n",
      "😃 😃\n",
      "🤐 🤐\n",
      "😃 😃\n",
      "😃 😃\n",
      "😃 😃\n",
      "🍴 🍴\n",
      "⚾ ⚾\n",
      "⚾ ⚾\n",
      "😃 🤐\n",
      "🤐 🤐\n",
      "🍴 🍴\n",
      "⚾ ⚾\n",
      "😃 😃\n",
      "⚾ ⚾\n",
      "⚾ ⚾\n",
      "😃 🤐\n",
      "⚾ ⚾\n",
      "😃 ❤️\n",
      "🍴 🍴\n",
      "😃 ❤️\n",
      "🤐 🤐\n",
      "😃 🤐\n",
      "🍴 🍴\n",
      "😃 🍴\n",
      "⚾ ⚾\n",
      "🍴 🍴\n",
      "😃 🤐\n",
      "❤️ ❤️\n",
      "😃 😃\n"
     ]
    }
   ],
   "source": [
    "for i in range(y_pred.shape[0]) :\n",
    "    # print(np.argmax(y_pred[i]))\n",
    "    print(emoji.emojize(emoji_dictionary[str(np.argmax(y_pred[i]))]) , end = \" \")\n",
    "    print(emoji.emojize(emoji_dictionary[str(np.argmax(y_train[i]))]))"
   ]
  },
  {
   "cell_type": "code",
   "execution_count": 0,
   "metadata": {
    "colab": {},
    "colab_type": "code",
    "id": "aWn_ga6v4Jlz"
   },
   "outputs": [],
   "source": []
  }
 ],
 "metadata": {
  "accelerator": "GPU",
  "colab": {
   "collapsed_sections": [],
   "name": "Emoji.ipynb",
   "provenance": []
  },
  "kernelspec": {
   "display_name": "Python 3",
   "language": "python",
   "name": "python3"
  },
  "language_info": {
   "codemirror_mode": {
    "name": "ipython",
    "version": 3
   },
   "file_extension": ".py",
   "mimetype": "text/x-python",
   "name": "python",
   "nbconvert_exporter": "python",
   "pygments_lexer": "ipython3",
   "version": "3.7.6"
  }
 },
 "nbformat": 4,
 "nbformat_minor": 1
}
